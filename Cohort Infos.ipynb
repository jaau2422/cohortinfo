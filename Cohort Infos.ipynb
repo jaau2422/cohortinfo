{
 "cells": [
  {
   "cell_type": "code",
   "execution_count": 1,
   "id": "1be6cad3",
   "metadata": {},
   "outputs": [],
   "source": [
    "import pandas as pd"
   ]
  },
  {
   "cell_type": "code",
   "execution_count": 2,
   "id": "fc8f5f61",
   "metadata": {},
   "outputs": [],
   "source": [
    "import csv\n",
    "import matplotlib\n",
    "#allows us to show graphs inside the notebokka\n",
    "%matplotlib inline"
   ]
  },
  {
   "cell_type": "code",
   "execution_count": 20,
   "id": "900732df",
   "metadata": {},
   "outputs": [],
   "source": [
    "path = 'ClassInfos.csv'\n",
    "cohort= pd.read_csv(path)"
   ]
  },
  {
   "cell_type": "code",
   "execution_count": 21,
   "id": "d23d3aa0",
   "metadata": {},
   "outputs": [
    {
     "data": {
      "text/html": [
       "<div>\n",
       "<style scoped>\n",
       "    .dataframe tbody tr th:only-of-type {\n",
       "        vertical-align: middle;\n",
       "    }\n",
       "\n",
       "    .dataframe tbody tr th {\n",
       "        vertical-align: top;\n",
       "    }\n",
       "\n",
       "    .dataframe thead th {\n",
       "        text-align: right;\n",
       "    }\n",
       "</style>\n",
       "<table border=\"1\" class=\"dataframe\">\n",
       "  <thead>\n",
       "    <tr style=\"text-align: right;\">\n",
       "      <th></th>\n",
       "      <th>number</th>\n",
       "      <th>Score total</th>\n",
       "      <th>name</th>\n",
       "      <th>What meme character would you choose?</th>\n",
       "      <th>What would be your weapon of choice in a zombie apocalypse?</th>\n",
       "      <th>What would be your weapon of choice in a zombie apocalypse? [Score]</th>\n",
       "      <th>What supernatural power would you want to have?</th>\n",
       "      <th>If you were a vegetable, what would you be?</th>\n",
       "    </tr>\n",
       "  </thead>\n",
       "  <tbody>\n",
       "    <tr>\n",
       "      <th>0</th>\n",
       "      <td>1</td>\n",
       "      <td>0.00 / 0</td>\n",
       "      <td>Shi Shi</td>\n",
       "      <td>This is fine</td>\n",
       "      <td>Sledge Hammer</td>\n",
       "      <td>-- / 0</td>\n",
       "      <td>moving objects with your thoughts</td>\n",
       "      <td>Cucumber</td>\n",
       "    </tr>\n",
       "    <tr>\n",
       "      <th>1</th>\n",
       "      <td>2</td>\n",
       "      <td>0.00 / 0</td>\n",
       "      <td>Rocio</td>\n",
       "      <td>This is fine</td>\n",
       "      <td>Katana</td>\n",
       "      <td>-- / 0</td>\n",
       "      <td>mind reading</td>\n",
       "      <td>Pumpkin</td>\n",
       "    </tr>\n",
       "    <tr>\n",
       "      <th>2</th>\n",
       "      <td>3</td>\n",
       "      <td>0.00 / 0</td>\n",
       "      <td>Tilly</td>\n",
       "      <td>Futurama Fry</td>\n",
       "      <td>Baseball Bat</td>\n",
       "      <td>-- / 0</td>\n",
       "      <td>moving objects with your thoughts</td>\n",
       "      <td>Cucumber</td>\n",
       "    </tr>\n",
       "    <tr>\n",
       "      <th>3</th>\n",
       "      <td>4</td>\n",
       "      <td>0.00 / 0</td>\n",
       "      <td>Jiaze Li</td>\n",
       "      <td>Distracted boyfriend</td>\n",
       "      <td>Handgun</td>\n",
       "      <td>-- / 0</td>\n",
       "      <td>becoming invisble</td>\n",
       "      <td>Carrot</td>\n",
       "    </tr>\n",
       "    <tr>\n",
       "      <th>4</th>\n",
       "      <td>5</td>\n",
       "      <td>0.00 / 0</td>\n",
       "      <td>Jade</td>\n",
       "      <td>This is fine</td>\n",
       "      <td>Machete</td>\n",
       "      <td>-- / 0</td>\n",
       "      <td>Flying</td>\n",
       "      <td>Leek</td>\n",
       "    </tr>\n",
       "  </tbody>\n",
       "</table>\n",
       "</div>"
      ],
      "text/plain": [
       "   number Score total      name What meme character would you choose?  \\\n",
       "0       1    0.00 / 0   Shi Shi                          This is fine   \n",
       "1       2    0.00 / 0     Rocio                          This is fine   \n",
       "2       3    0.00 / 0     Tilly                          Futurama Fry   \n",
       "3       4    0.00 / 0  Jiaze Li                  Distracted boyfriend   \n",
       "4       5    0.00 / 0      Jade                          This is fine   \n",
       "\n",
       "  What would be your weapon of choice in a zombie apocalypse?  \\\n",
       "0                                      Sledge Hammer            \n",
       "1                                             Katana            \n",
       "2                                       Baseball Bat            \n",
       "3                                            Handgun            \n",
       "4                                            Machete            \n",
       "\n",
       "  What would be your weapon of choice in a zombie apocalypse? [Score]  \\\n",
       "0                                             -- / 0                    \n",
       "1                                             -- / 0                    \n",
       "2                                             -- / 0                    \n",
       "3                                             -- / 0                    \n",
       "4                                             -- / 0                    \n",
       "\n",
       "  What supernatural power would you want to have?  \\\n",
       "0               moving objects with your thoughts   \n",
       "1                                    mind reading   \n",
       "2               moving objects with your thoughts   \n",
       "3                               becoming invisble   \n",
       "4                                          Flying   \n",
       "\n",
       "  If you were a vegetable, what would you be?  \n",
       "0                                    Cucumber  \n",
       "1                                     Pumpkin  \n",
       "2                                    Cucumber  \n",
       "3                                      Carrot  \n",
       "4                                        Leek  "
      ]
     },
     "execution_count": 21,
     "metadata": {},
     "output_type": "execute_result"
    }
   ],
   "source": [
    "cohort.head()"
   ]
  },
  {
   "cell_type": "code",
   "execution_count": 42,
   "id": "9bea63b2",
   "metadata": {},
   "outputs": [
    {
     "data": {
      "text/plain": [
       "0                  This is fine\n",
       "1                  This is fine\n",
       "2                  Futurama Fry\n",
       "3          Distracted boyfriend\n",
       "4                  This is fine\n",
       "5        Guy blinking nervously\n",
       "6        Guy blinking nervously\n",
       "7     Grandpa that smiles weird\n",
       "8     Grandpa that smiles weird\n",
       "9                  This is fine\n",
       "10       Guy blinking nervously\n",
       "11                 This is fine\n",
       "Name: What meme character would you choose?, dtype: object"
      ]
     },
     "execution_count": 42,
     "metadata": {},
     "output_type": "execute_result"
    }
   ],
   "source": [
    "cohort['What meme character would you choose?']"
   ]
  },
  {
   "cell_type": "code",
   "execution_count": 43,
   "id": "7d805fb5",
   "metadata": {},
   "outputs": [
    {
     "data": {
      "text/plain": [
       "0      Shi Shi\n",
       "1        Rocio\n",
       "2        Tilly\n",
       "3     Jiaze Li\n",
       "4         Jade\n",
       "5          Wen\n",
       "6        Adele\n",
       "7         Beth\n",
       "8         Beth\n",
       "9          Kat\n",
       "10        Dara\n",
       "11    Ning Wei\n",
       "Name: name, dtype: object"
      ]
     },
     "execution_count": 43,
     "metadata": {},
     "output_type": "execute_result"
    }
   ],
   "source": [
    "cohort['name']"
   ]
  },
  {
   "cell_type": "code",
   "execution_count": 26,
   "id": "74a36293",
   "metadata": {},
   "outputs": [],
   "source": [
    "#dataset of all active complaints\n",
    "#subdataset is still a pandas dataframe because it will still have rows and collums\n",
    "machete_people = cohort[[x for x in cohort['What would be your weapon of choice in a zombie apocalypse?']== 'Machete']]\n"
   ]
  },
  {
   "cell_type": "code",
   "execution_count": 27,
   "id": "e7195f20",
   "metadata": {},
   "outputs": [
    {
     "data": {
      "text/html": [
       "<div>\n",
       "<style scoped>\n",
       "    .dataframe tbody tr th:only-of-type {\n",
       "        vertical-align: middle;\n",
       "    }\n",
       "\n",
       "    .dataframe tbody tr th {\n",
       "        vertical-align: top;\n",
       "    }\n",
       "\n",
       "    .dataframe thead th {\n",
       "        text-align: right;\n",
       "    }\n",
       "</style>\n",
       "<table border=\"1\" class=\"dataframe\">\n",
       "  <thead>\n",
       "    <tr style=\"text-align: right;\">\n",
       "      <th></th>\n",
       "      <th>number</th>\n",
       "      <th>Score total</th>\n",
       "      <th>name</th>\n",
       "      <th>What meme character would you choose?</th>\n",
       "      <th>What would be your weapon of choice in a zombie apocalypse?</th>\n",
       "      <th>What would be your weapon of choice in a zombie apocalypse? [Score]</th>\n",
       "      <th>What supernatural power would you want to have?</th>\n",
       "      <th>If you were a vegetable, what would you be?</th>\n",
       "    </tr>\n",
       "  </thead>\n",
       "  <tbody>\n",
       "    <tr>\n",
       "      <th>4</th>\n",
       "      <td>5</td>\n",
       "      <td>0.00 / 0</td>\n",
       "      <td>Jade</td>\n",
       "      <td>This is fine</td>\n",
       "      <td>Machete</td>\n",
       "      <td>-- / 0</td>\n",
       "      <td>Flying</td>\n",
       "      <td>Leek</td>\n",
       "    </tr>\n",
       "    <tr>\n",
       "      <th>6</th>\n",
       "      <td>7</td>\n",
       "      <td>0.00 / 0</td>\n",
       "      <td>Adele</td>\n",
       "      <td>Guy blinking nervously</td>\n",
       "      <td>Machete</td>\n",
       "      <td>-- / 0</td>\n",
       "      <td>moving objects with your thoughts</td>\n",
       "      <td>Romanesco</td>\n",
       "    </tr>\n",
       "    <tr>\n",
       "      <th>7</th>\n",
       "      <td>8</td>\n",
       "      <td>0.00 / 0</td>\n",
       "      <td>Beth</td>\n",
       "      <td>Grandpa that smiles weird</td>\n",
       "      <td>Machete</td>\n",
       "      <td>-- / 0</td>\n",
       "      <td>Flying</td>\n",
       "      <td>Potato</td>\n",
       "    </tr>\n",
       "    <tr>\n",
       "      <th>8</th>\n",
       "      <td>9</td>\n",
       "      <td>0.00 / 0</td>\n",
       "      <td>Beth</td>\n",
       "      <td>Grandpa that smiles weird</td>\n",
       "      <td>Machete</td>\n",
       "      <td>-- / 0</td>\n",
       "      <td>Flying</td>\n",
       "      <td>Potato</td>\n",
       "    </tr>\n",
       "    <tr>\n",
       "      <th>10</th>\n",
       "      <td>11</td>\n",
       "      <td>0.00 / 0</td>\n",
       "      <td>Dara</td>\n",
       "      <td>Guy blinking nervously</td>\n",
       "      <td>Machete</td>\n",
       "      <td>-- / 0</td>\n",
       "      <td>moving objects with your thoughts</td>\n",
       "      <td>Leek</td>\n",
       "    </tr>\n",
       "  </tbody>\n",
       "</table>\n",
       "</div>"
      ],
      "text/plain": [
       "    number Score total   name What meme character would you choose?  \\\n",
       "4        5    0.00 / 0   Jade                          This is fine   \n",
       "6        7    0.00 / 0  Adele                Guy blinking nervously   \n",
       "7        8    0.00 / 0   Beth             Grandpa that smiles weird   \n",
       "8        9    0.00 / 0   Beth             Grandpa that smiles weird   \n",
       "10      11    0.00 / 0   Dara                Guy blinking nervously   \n",
       "\n",
       "   What would be your weapon of choice in a zombie apocalypse?  \\\n",
       "4                                             Machete            \n",
       "6                                             Machete            \n",
       "7                                             Machete            \n",
       "8                                             Machete            \n",
       "10                                            Machete            \n",
       "\n",
       "   What would be your weapon of choice in a zombie apocalypse? [Score]  \\\n",
       "4                                              -- / 0                    \n",
       "6                                              -- / 0                    \n",
       "7                                              -- / 0                    \n",
       "8                                              -- / 0                    \n",
       "10                                             -- / 0                    \n",
       "\n",
       "   What supernatural power would you want to have?  \\\n",
       "4                                           Flying   \n",
       "6                moving objects with your thoughts   \n",
       "7                                           Flying   \n",
       "8                                           Flying   \n",
       "10               moving objects with your thoughts   \n",
       "\n",
       "   If you were a vegetable, what would you be?  \n",
       "4                                         Leek  \n",
       "6                                    Romanesco  \n",
       "7                                       Potato  \n",
       "8                                       Potato  \n",
       "10                                        Leek  "
      ]
     },
     "execution_count": 27,
     "metadata": {},
     "output_type": "execute_result"
    }
   ],
   "source": [
    "machete_people"
   ]
  },
  {
   "cell_type": "code",
   "execution_count": null,
   "id": "0cf7f30c",
   "metadata": {},
   "outputs": [],
   "source": []
  },
  {
   "cell_type": "code",
   "execution_count": 50,
   "id": "368678ec",
   "metadata": {},
   "outputs": [],
   "source": [
    "potato=cohort['If you were a vegetable, what would you be?'].value_counts()['Potato']\n",
    "leek=cohort['If you were a vegetable, what would you be?'].value_counts()['Leek']\n",
    "romanesco=cohort['If you were a vegetable, what would you be?'].value_counts()['Romanesco']\n",
    "cucumber=cohort['If you were a vegetable, what would you be?'].value_counts()['Cucumber']"
   ]
  },
  {
   "cell_type": "code",
   "execution_count": 52,
   "id": "e3689859",
   "metadata": {},
   "outputs": [
    {
     "data": {
      "text/plain": [
       "3"
      ]
     },
     "execution_count": 52,
     "metadata": {},
     "output_type": "execute_result"
    }
   ],
   "source": [
    "potato\n"
   ]
  },
  {
   "cell_type": "code",
   "execution_count": 54,
   "id": "59bb453a",
   "metadata": {},
   "outputs": [
    {
     "data": {
      "image/png": "[encoded data removed]",
      "text/plain": [
       "<Figure size 640x480 with 1 Axes>"
      ]
     },
     "metadata": {},
     "output_type": "display_data"
    }
   ],
   "source": [
    "import matplotlib.pyplot as plt\n",
    "\n",
    "y = np.array([leek, potato, cucumber, romanesco])\n",
    "mylabels = [\"Potato\", \"Leek\", \"Romanesco\", \"Cucumber\"]\n",
    "\n",
    "plt.pie(y, labels = mylabels)\n",
    "plt.show() "
   ]
  },
  {
   "cell_type": "code",
   "execution_count": null,
   "id": "8a5f39b9",
   "metadata": {},
   "outputs": [],
   "source": []
  },
  {
   "cell_type": "code",
   "execution_count": null,
   "id": "03ca7bc6",
   "metadata": {},
   "outputs": [],
   "source": []
  },
  {
   "cell_type": "code",
   "execution_count": null,
   "id": "0fc8159a",
   "metadata": {},
   "outputs": [],
   "source": []
  },
  {
   "cell_type": "code",
   "execution_count": null,
   "id": "f9f39e52",
   "metadata": {},
   "outputs": [],
   "source": []
  },
  {
   "cell_type": "code",
   "execution_count": null,
   "id": "19e60da6",
   "metadata": {},
   "outputs": [],
   "source": []
  },
  {
   "cell_type": "code",
   "execution_count": null,
   "id": "a3f0b710",
   "metadata": {},
   "outputs": [],
   "source": []
  },
  {
   "cell_type": "code",
   "execution_count": null,
   "id": "b5426515",
   "metadata": {},
   "outputs": [],
   "source": []
  }
 ],
 "metadata": {
  "kernelspec": {
   "display_name": "Python 3 (ipykernel)",
   "language": "python",
   "name": "python3"
  },
  "language_info": {
   "codemirror_mode": {
    "name": "ipython",
    "version": 3
   },
   "file_extension": ".py",
   "mimetype": "text/x-python",
   "name": "python",
   "nbconvert_exporter": "python",
   "pygments_lexer": "ipython3",
   "version": "3.11.0"
  }
 },
 "nbformat": 4,
 "nbformat_minor": 5
}
